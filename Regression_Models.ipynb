{
  "nbformat": 4,
  "nbformat_minor": 0,
  "metadata": {
    "colab": {
      "name": "Regression Models",
      "provenance": [],
      "toc_visible": true
    },
    "kernelspec": {
      "name": "python3",
      "display_name": "Python 3"
    }
  },
  "cells": [
    {
      "cell_type": "markdown",
      "metadata": {
        "id": "ZvfnH7mRrmct"
      },
      "source": [
        "# lib"
      ]
    },
    {
      "cell_type": "code",
      "metadata": {
        "id": "Os1PrRNpzd7z"
      },
      "source": [
        "import numpy as np\n",
        "import pandas as pd\n",
        "import matplotlib.pyplot as plt\n",
        "import seaborn as sns\n",
        "%matplotlib inline"
      ],
      "execution_count": 60,
      "outputs": []
    },
    {
      "cell_type": "markdown",
      "metadata": {
        "id": "vghbrwuOrorh"
      },
      "source": [
        "# dataset"
      ]
    },
    {
      "cell_type": "code",
      "metadata": {
        "id": "HYNlIHR6z7fA",
        "outputId": "2da06f12-fe63-4cc4-e38b-269762a16f3f",
        "colab": {
          "base_uri": "https://localhost:8080/",
          "height": 309
        }
      },
      "source": [
        "football= pd.read_csv('football_CLEAN.csv')\n",
        "football.head()"
      ],
      "execution_count": 61,
      "outputs": [
        {
          "output_type": "execute_result",
          "data": {
            "text/html": [
              "<div>\n",
              "<style scoped>\n",
              "    .dataframe tbody tr th:only-of-type {\n",
              "        vertical-align: middle;\n",
              "    }\n",
              "\n",
              "    .dataframe tbody tr th {\n",
              "        vertical-align: top;\n",
              "    }\n",
              "\n",
              "    .dataframe thead th {\n",
              "        text-align: right;\n",
              "    }\n",
              "</style>\n",
              "<table border=\"1\" class=\"dataframe\">\n",
              "  <thead>\n",
              "    <tr style=\"text-align: right;\">\n",
              "      <th></th>\n",
              "      <th>name</th>\n",
              "      <th>club</th>\n",
              "      <th>age</th>\n",
              "      <th>position</th>\n",
              "      <th>position_cat</th>\n",
              "      <th>market_value</th>\n",
              "      <th>page_views</th>\n",
              "      <th>fpl_value</th>\n",
              "      <th>fpl_sel</th>\n",
              "      <th>fpl_points</th>\n",
              "      <th>region</th>\n",
              "      <th>nationality</th>\n",
              "      <th>new_foreign</th>\n",
              "      <th>age_cat</th>\n",
              "      <th>club_id</th>\n",
              "      <th>big_club</th>\n",
              "      <th>new_signing</th>\n",
              "    </tr>\n",
              "  </thead>\n",
              "  <tbody>\n",
              "    <tr>\n",
              "      <th>0</th>\n",
              "      <td>Alexis Sanchez</td>\n",
              "      <td>Arsenal</td>\n",
              "      <td>28</td>\n",
              "      <td>LW</td>\n",
              "      <td>1</td>\n",
              "      <td>65.0</td>\n",
              "      <td>4329</td>\n",
              "      <td>12.0</td>\n",
              "      <td>17.10%</td>\n",
              "      <td>264</td>\n",
              "      <td>3</td>\n",
              "      <td>Chile</td>\n",
              "      <td>0</td>\n",
              "      <td>4</td>\n",
              "      <td>1</td>\n",
              "      <td>1</td>\n",
              "      <td>0</td>\n",
              "    </tr>\n",
              "    <tr>\n",
              "      <th>1</th>\n",
              "      <td>Mesut Ozil</td>\n",
              "      <td>Arsenal</td>\n",
              "      <td>28</td>\n",
              "      <td>AM</td>\n",
              "      <td>1</td>\n",
              "      <td>50.0</td>\n",
              "      <td>4395</td>\n",
              "      <td>9.5</td>\n",
              "      <td>5.60%</td>\n",
              "      <td>167</td>\n",
              "      <td>2</td>\n",
              "      <td>Germany</td>\n",
              "      <td>0</td>\n",
              "      <td>4</td>\n",
              "      <td>1</td>\n",
              "      <td>1</td>\n",
              "      <td>0</td>\n",
              "    </tr>\n",
              "    <tr>\n",
              "      <th>2</th>\n",
              "      <td>Petr Cech</td>\n",
              "      <td>Arsenal</td>\n",
              "      <td>35</td>\n",
              "      <td>GK</td>\n",
              "      <td>4</td>\n",
              "      <td>7.0</td>\n",
              "      <td>1529</td>\n",
              "      <td>5.5</td>\n",
              "      <td>5.90%</td>\n",
              "      <td>134</td>\n",
              "      <td>2</td>\n",
              "      <td>Czech Republic</td>\n",
              "      <td>0</td>\n",
              "      <td>6</td>\n",
              "      <td>1</td>\n",
              "      <td>1</td>\n",
              "      <td>0</td>\n",
              "    </tr>\n",
              "    <tr>\n",
              "      <th>3</th>\n",
              "      <td>Theo Walcott</td>\n",
              "      <td>Arsenal</td>\n",
              "      <td>28</td>\n",
              "      <td>RW</td>\n",
              "      <td>1</td>\n",
              "      <td>20.0</td>\n",
              "      <td>2393</td>\n",
              "      <td>7.5</td>\n",
              "      <td>1.50%</td>\n",
              "      <td>122</td>\n",
              "      <td>1</td>\n",
              "      <td>England</td>\n",
              "      <td>0</td>\n",
              "      <td>4</td>\n",
              "      <td>1</td>\n",
              "      <td>1</td>\n",
              "      <td>0</td>\n",
              "    </tr>\n",
              "    <tr>\n",
              "      <th>4</th>\n",
              "      <td>Laurent Koscielny</td>\n",
              "      <td>Arsenal</td>\n",
              "      <td>31</td>\n",
              "      <td>CB</td>\n",
              "      <td>3</td>\n",
              "      <td>22.0</td>\n",
              "      <td>912</td>\n",
              "      <td>6.0</td>\n",
              "      <td>0.70%</td>\n",
              "      <td>121</td>\n",
              "      <td>2</td>\n",
              "      <td>France</td>\n",
              "      <td>0</td>\n",
              "      <td>4</td>\n",
              "      <td>1</td>\n",
              "      <td>1</td>\n",
              "      <td>0</td>\n",
              "    </tr>\n",
              "  </tbody>\n",
              "</table>\n",
              "</div>"
            ],
            "text/plain": [
              "                name     club  age  ... club_id  big_club  new_signing\n",
              "0     Alexis Sanchez  Arsenal   28  ...       1         1            0\n",
              "1         Mesut Ozil  Arsenal   28  ...       1         1            0\n",
              "2          Petr Cech  Arsenal   35  ...       1         1            0\n",
              "3       Theo Walcott  Arsenal   28  ...       1         1            0\n",
              "4  Laurent Koscielny  Arsenal   31  ...       1         1            0\n",
              "\n",
              "[5 rows x 17 columns]"
            ]
          },
          "metadata": {
            "tags": []
          },
          "execution_count": 61
        }
      ]
    },
    {
      "cell_type": "code",
      "metadata": {
        "id": "n6qbQrdsz7ki"
      },
      "source": [
        "football.drop(['name','club','position','nationality'],axis=1,inplace=True)"
      ],
      "execution_count": 62,
      "outputs": []
    },
    {
      "cell_type": "code",
      "metadata": {
        "id": "lza8WyGKz7nU",
        "outputId": "45124b8b-716e-4220-8040-fdecf1f684a9",
        "colab": {
          "base_uri": "https://localhost:8080/",
          "height": 204
        }
      },
      "source": [
        "football.head()"
      ],
      "execution_count": 63,
      "outputs": [
        {
          "output_type": "execute_result",
          "data": {
            "text/html": [
              "<div>\n",
              "<style scoped>\n",
              "    .dataframe tbody tr th:only-of-type {\n",
              "        vertical-align: middle;\n",
              "    }\n",
              "\n",
              "    .dataframe tbody tr th {\n",
              "        vertical-align: top;\n",
              "    }\n",
              "\n",
              "    .dataframe thead th {\n",
              "        text-align: right;\n",
              "    }\n",
              "</style>\n",
              "<table border=\"1\" class=\"dataframe\">\n",
              "  <thead>\n",
              "    <tr style=\"text-align: right;\">\n",
              "      <th></th>\n",
              "      <th>age</th>\n",
              "      <th>position_cat</th>\n",
              "      <th>market_value</th>\n",
              "      <th>page_views</th>\n",
              "      <th>fpl_value</th>\n",
              "      <th>fpl_sel</th>\n",
              "      <th>fpl_points</th>\n",
              "      <th>region</th>\n",
              "      <th>new_foreign</th>\n",
              "      <th>age_cat</th>\n",
              "      <th>club_id</th>\n",
              "      <th>big_club</th>\n",
              "      <th>new_signing</th>\n",
              "    </tr>\n",
              "  </thead>\n",
              "  <tbody>\n",
              "    <tr>\n",
              "      <th>0</th>\n",
              "      <td>28</td>\n",
              "      <td>1</td>\n",
              "      <td>65.0</td>\n",
              "      <td>4329</td>\n",
              "      <td>12.0</td>\n",
              "      <td>17.10%</td>\n",
              "      <td>264</td>\n",
              "      <td>3</td>\n",
              "      <td>0</td>\n",
              "      <td>4</td>\n",
              "      <td>1</td>\n",
              "      <td>1</td>\n",
              "      <td>0</td>\n",
              "    </tr>\n",
              "    <tr>\n",
              "      <th>1</th>\n",
              "      <td>28</td>\n",
              "      <td>1</td>\n",
              "      <td>50.0</td>\n",
              "      <td>4395</td>\n",
              "      <td>9.5</td>\n",
              "      <td>5.60%</td>\n",
              "      <td>167</td>\n",
              "      <td>2</td>\n",
              "      <td>0</td>\n",
              "      <td>4</td>\n",
              "      <td>1</td>\n",
              "      <td>1</td>\n",
              "      <td>0</td>\n",
              "    </tr>\n",
              "    <tr>\n",
              "      <th>2</th>\n",
              "      <td>35</td>\n",
              "      <td>4</td>\n",
              "      <td>7.0</td>\n",
              "      <td>1529</td>\n",
              "      <td>5.5</td>\n",
              "      <td>5.90%</td>\n",
              "      <td>134</td>\n",
              "      <td>2</td>\n",
              "      <td>0</td>\n",
              "      <td>6</td>\n",
              "      <td>1</td>\n",
              "      <td>1</td>\n",
              "      <td>0</td>\n",
              "    </tr>\n",
              "    <tr>\n",
              "      <th>3</th>\n",
              "      <td>28</td>\n",
              "      <td>1</td>\n",
              "      <td>20.0</td>\n",
              "      <td>2393</td>\n",
              "      <td>7.5</td>\n",
              "      <td>1.50%</td>\n",
              "      <td>122</td>\n",
              "      <td>1</td>\n",
              "      <td>0</td>\n",
              "      <td>4</td>\n",
              "      <td>1</td>\n",
              "      <td>1</td>\n",
              "      <td>0</td>\n",
              "    </tr>\n",
              "    <tr>\n",
              "      <th>4</th>\n",
              "      <td>31</td>\n",
              "      <td>3</td>\n",
              "      <td>22.0</td>\n",
              "      <td>912</td>\n",
              "      <td>6.0</td>\n",
              "      <td>0.70%</td>\n",
              "      <td>121</td>\n",
              "      <td>2</td>\n",
              "      <td>0</td>\n",
              "      <td>4</td>\n",
              "      <td>1</td>\n",
              "      <td>1</td>\n",
              "      <td>0</td>\n",
              "    </tr>\n",
              "  </tbody>\n",
              "</table>\n",
              "</div>"
            ],
            "text/plain": [
              "   age  position_cat  market_value  ...  club_id  big_club new_signing\n",
              "0   28             1          65.0  ...        1         1           0\n",
              "1   28             1          50.0  ...        1         1           0\n",
              "2   35             4           7.0  ...        1         1           0\n",
              "3   28             1          20.0  ...        1         1           0\n",
              "4   31             3          22.0  ...        1         1           0\n",
              "\n",
              "[5 rows x 13 columns]"
            ]
          },
          "metadata": {
            "tags": []
          },
          "execution_count": 63
        }
      ]
    },
    {
      "cell_type": "code",
      "metadata": {
        "id": "DB23FEdOb01u",
        "outputId": "44a4e475-3f69-4bcf-95c2-e06b296fb00f",
        "colab": {
          "base_uri": "https://localhost:8080/",
          "height": 204
        }
      },
      "source": [
        "football['FPL_SEL'] = pd.to_numeric(football['fpl_sel'].str[:-1])\n",
        "football.head()"
      ],
      "execution_count": 64,
      "outputs": [
        {
          "output_type": "execute_result",
          "data": {
            "text/html": [
              "<div>\n",
              "<style scoped>\n",
              "    .dataframe tbody tr th:only-of-type {\n",
              "        vertical-align: middle;\n",
              "    }\n",
              "\n",
              "    .dataframe tbody tr th {\n",
              "        vertical-align: top;\n",
              "    }\n",
              "\n",
              "    .dataframe thead th {\n",
              "        text-align: right;\n",
              "    }\n",
              "</style>\n",
              "<table border=\"1\" class=\"dataframe\">\n",
              "  <thead>\n",
              "    <tr style=\"text-align: right;\">\n",
              "      <th></th>\n",
              "      <th>age</th>\n",
              "      <th>position_cat</th>\n",
              "      <th>market_value</th>\n",
              "      <th>page_views</th>\n",
              "      <th>fpl_value</th>\n",
              "      <th>fpl_sel</th>\n",
              "      <th>fpl_points</th>\n",
              "      <th>region</th>\n",
              "      <th>new_foreign</th>\n",
              "      <th>age_cat</th>\n",
              "      <th>club_id</th>\n",
              "      <th>big_club</th>\n",
              "      <th>new_signing</th>\n",
              "      <th>FPL_SEL</th>\n",
              "    </tr>\n",
              "  </thead>\n",
              "  <tbody>\n",
              "    <tr>\n",
              "      <th>0</th>\n",
              "      <td>28</td>\n",
              "      <td>1</td>\n",
              "      <td>65.0</td>\n",
              "      <td>4329</td>\n",
              "      <td>12.0</td>\n",
              "      <td>17.10%</td>\n",
              "      <td>264</td>\n",
              "      <td>3</td>\n",
              "      <td>0</td>\n",
              "      <td>4</td>\n",
              "      <td>1</td>\n",
              "      <td>1</td>\n",
              "      <td>0</td>\n",
              "      <td>17.1</td>\n",
              "    </tr>\n",
              "    <tr>\n",
              "      <th>1</th>\n",
              "      <td>28</td>\n",
              "      <td>1</td>\n",
              "      <td>50.0</td>\n",
              "      <td>4395</td>\n",
              "      <td>9.5</td>\n",
              "      <td>5.60%</td>\n",
              "      <td>167</td>\n",
              "      <td>2</td>\n",
              "      <td>0</td>\n",
              "      <td>4</td>\n",
              "      <td>1</td>\n",
              "      <td>1</td>\n",
              "      <td>0</td>\n",
              "      <td>5.6</td>\n",
              "    </tr>\n",
              "    <tr>\n",
              "      <th>2</th>\n",
              "      <td>35</td>\n",
              "      <td>4</td>\n",
              "      <td>7.0</td>\n",
              "      <td>1529</td>\n",
              "      <td>5.5</td>\n",
              "      <td>5.90%</td>\n",
              "      <td>134</td>\n",
              "      <td>2</td>\n",
              "      <td>0</td>\n",
              "      <td>6</td>\n",
              "      <td>1</td>\n",
              "      <td>1</td>\n",
              "      <td>0</td>\n",
              "      <td>5.9</td>\n",
              "    </tr>\n",
              "    <tr>\n",
              "      <th>3</th>\n",
              "      <td>28</td>\n",
              "      <td>1</td>\n",
              "      <td>20.0</td>\n",
              "      <td>2393</td>\n",
              "      <td>7.5</td>\n",
              "      <td>1.50%</td>\n",
              "      <td>122</td>\n",
              "      <td>1</td>\n",
              "      <td>0</td>\n",
              "      <td>4</td>\n",
              "      <td>1</td>\n",
              "      <td>1</td>\n",
              "      <td>0</td>\n",
              "      <td>1.5</td>\n",
              "    </tr>\n",
              "    <tr>\n",
              "      <th>4</th>\n",
              "      <td>31</td>\n",
              "      <td>3</td>\n",
              "      <td>22.0</td>\n",
              "      <td>912</td>\n",
              "      <td>6.0</td>\n",
              "      <td>0.70%</td>\n",
              "      <td>121</td>\n",
              "      <td>2</td>\n",
              "      <td>0</td>\n",
              "      <td>4</td>\n",
              "      <td>1</td>\n",
              "      <td>1</td>\n",
              "      <td>0</td>\n",
              "      <td>0.7</td>\n",
              "    </tr>\n",
              "  </tbody>\n",
              "</table>\n",
              "</div>"
            ],
            "text/plain": [
              "   age  position_cat  market_value  ...  big_club  new_signing FPL_SEL\n",
              "0   28             1          65.0  ...         1            0    17.1\n",
              "1   28             1          50.0  ...         1            0     5.6\n",
              "2   35             4           7.0  ...         1            0     5.9\n",
              "3   28             1          20.0  ...         1            0     1.5\n",
              "4   31             3          22.0  ...         1            0     0.7\n",
              "\n",
              "[5 rows x 14 columns]"
            ]
          },
          "metadata": {
            "tags": []
          },
          "execution_count": 64
        }
      ]
    },
    {
      "cell_type": "code",
      "metadata": {
        "id": "mPaAVSzHdFPB",
        "outputId": "72650520-1131-4ce4-c472-8ba137e470fc",
        "colab": {
          "base_uri": "https://localhost:8080/",
          "height": 204
        }
      },
      "source": [
        "football.drop(['fpl_sel'],axis=1,inplace=True)\n",
        "football.head()"
      ],
      "execution_count": 65,
      "outputs": [
        {
          "output_type": "execute_result",
          "data": {
            "text/html": [
              "<div>\n",
              "<style scoped>\n",
              "    .dataframe tbody tr th:only-of-type {\n",
              "        vertical-align: middle;\n",
              "    }\n",
              "\n",
              "    .dataframe tbody tr th {\n",
              "        vertical-align: top;\n",
              "    }\n",
              "\n",
              "    .dataframe thead th {\n",
              "        text-align: right;\n",
              "    }\n",
              "</style>\n",
              "<table border=\"1\" class=\"dataframe\">\n",
              "  <thead>\n",
              "    <tr style=\"text-align: right;\">\n",
              "      <th></th>\n",
              "      <th>age</th>\n",
              "      <th>position_cat</th>\n",
              "      <th>market_value</th>\n",
              "      <th>page_views</th>\n",
              "      <th>fpl_value</th>\n",
              "      <th>fpl_points</th>\n",
              "      <th>region</th>\n",
              "      <th>new_foreign</th>\n",
              "      <th>age_cat</th>\n",
              "      <th>club_id</th>\n",
              "      <th>big_club</th>\n",
              "      <th>new_signing</th>\n",
              "      <th>FPL_SEL</th>\n",
              "    </tr>\n",
              "  </thead>\n",
              "  <tbody>\n",
              "    <tr>\n",
              "      <th>0</th>\n",
              "      <td>28</td>\n",
              "      <td>1</td>\n",
              "      <td>65.0</td>\n",
              "      <td>4329</td>\n",
              "      <td>12.0</td>\n",
              "      <td>264</td>\n",
              "      <td>3</td>\n",
              "      <td>0</td>\n",
              "      <td>4</td>\n",
              "      <td>1</td>\n",
              "      <td>1</td>\n",
              "      <td>0</td>\n",
              "      <td>17.1</td>\n",
              "    </tr>\n",
              "    <tr>\n",
              "      <th>1</th>\n",
              "      <td>28</td>\n",
              "      <td>1</td>\n",
              "      <td>50.0</td>\n",
              "      <td>4395</td>\n",
              "      <td>9.5</td>\n",
              "      <td>167</td>\n",
              "      <td>2</td>\n",
              "      <td>0</td>\n",
              "      <td>4</td>\n",
              "      <td>1</td>\n",
              "      <td>1</td>\n",
              "      <td>0</td>\n",
              "      <td>5.6</td>\n",
              "    </tr>\n",
              "    <tr>\n",
              "      <th>2</th>\n",
              "      <td>35</td>\n",
              "      <td>4</td>\n",
              "      <td>7.0</td>\n",
              "      <td>1529</td>\n",
              "      <td>5.5</td>\n",
              "      <td>134</td>\n",
              "      <td>2</td>\n",
              "      <td>0</td>\n",
              "      <td>6</td>\n",
              "      <td>1</td>\n",
              "      <td>1</td>\n",
              "      <td>0</td>\n",
              "      <td>5.9</td>\n",
              "    </tr>\n",
              "    <tr>\n",
              "      <th>3</th>\n",
              "      <td>28</td>\n",
              "      <td>1</td>\n",
              "      <td>20.0</td>\n",
              "      <td>2393</td>\n",
              "      <td>7.5</td>\n",
              "      <td>122</td>\n",
              "      <td>1</td>\n",
              "      <td>0</td>\n",
              "      <td>4</td>\n",
              "      <td>1</td>\n",
              "      <td>1</td>\n",
              "      <td>0</td>\n",
              "      <td>1.5</td>\n",
              "    </tr>\n",
              "    <tr>\n",
              "      <th>4</th>\n",
              "      <td>31</td>\n",
              "      <td>3</td>\n",
              "      <td>22.0</td>\n",
              "      <td>912</td>\n",
              "      <td>6.0</td>\n",
              "      <td>121</td>\n",
              "      <td>2</td>\n",
              "      <td>0</td>\n",
              "      <td>4</td>\n",
              "      <td>1</td>\n",
              "      <td>1</td>\n",
              "      <td>0</td>\n",
              "      <td>0.7</td>\n",
              "    </tr>\n",
              "  </tbody>\n",
              "</table>\n",
              "</div>"
            ],
            "text/plain": [
              "   age  position_cat  market_value  ...  big_club  new_signing  FPL_SEL\n",
              "0   28             1          65.0  ...         1            0     17.1\n",
              "1   28             1          50.0  ...         1            0      5.6\n",
              "2   35             4           7.0  ...         1            0      5.9\n",
              "3   28             1          20.0  ...         1            0      1.5\n",
              "4   31             3          22.0  ...         1            0      0.7\n",
              "\n",
              "[5 rows x 13 columns]"
            ]
          },
          "metadata": {
            "tags": []
          },
          "execution_count": 65
        }
      ]
    },
    {
      "cell_type": "code",
      "metadata": {
        "id": "pzrDEPeQvdqb"
      },
      "source": [
        "X= football.drop('market_value',axis=1)\n",
        "Y= football['market_value']"
      ],
      "execution_count": 66,
      "outputs": []
    },
    {
      "cell_type": "code",
      "metadata": {
        "id": "cqT7reES5Cor"
      },
      "source": [
        "from sklearn.model_selection  import train_test_split"
      ],
      "execution_count": 67,
      "outputs": []
    },
    {
      "cell_type": "markdown",
      "metadata": {
        "id": "_zyuexyNsnsW"
      },
      "source": [
        "# train test split"
      ]
    },
    {
      "cell_type": "code",
      "metadata": {
        "id": "IR0Xjgmv5CtE",
        "outputId": "0c56d76d-ebce-43bf-8b36-f1b85b6fcbad",
        "colab": {
          "base_uri": "https://localhost:8080/"
        }
      },
      "source": [
        "X_train, X_test, Y_train, Y_test = train_test_split(X, Y, test_size = 0.25, random_state=101)\n",
        "print(X_train.shape)\n",
        "print(X_test.shape)\n",
        "print(Y_train.shape)\n",
        "print(Y_test.shape)"
      ],
      "execution_count": 68,
      "outputs": [
        {
          "output_type": "stream",
          "text": [
            "(345, 12)\n",
            "(116, 12)\n",
            "(345,)\n",
            "(116,)\n"
          ],
          "name": "stdout"
        }
      ]
    },
    {
      "cell_type": "code",
      "metadata": {
        "id": "UuV4ter-W4iI",
        "outputId": "e07e96c3-6e83-4a39-87e3-9e079d34e48e",
        "colab": {
          "base_uri": "https://localhost:8080/"
        }
      },
      "source": [
        "football.isnull().sum()"
      ],
      "execution_count": 69,
      "outputs": [
        {
          "output_type": "execute_result",
          "data": {
            "text/plain": [
              "age             0\n",
              "position_cat    0\n",
              "market_value    0\n",
              "page_views      0\n",
              "fpl_value       0\n",
              "fpl_points      0\n",
              "region          0\n",
              "new_foreign     0\n",
              "age_cat         0\n",
              "club_id         0\n",
              "big_club        0\n",
              "new_signing     0\n",
              "FPL_SEL         0\n",
              "dtype: int64"
            ]
          },
          "metadata": {
            "tags": []
          },
          "execution_count": 69
        }
      ]
    },
    {
      "cell_type": "markdown",
      "metadata": {
        "id": "S5Si6-GS_ego"
      },
      "source": [
        "# LINEAR REGRESSION"
      ]
    },
    {
      "cell_type": "code",
      "metadata": {
        "id": "bHyWesIN5Cwj",
        "outputId": "45b23420-9865-4510-edfd-5e6440953d80",
        "colab": {
          "base_uri": "https://localhost:8080/"
        }
      },
      "source": [
        "from sklearn.linear_model import LinearRegression\n",
        "regressor = LinearRegression()\n",
        "regressor.fit(X_train, Y_train)"
      ],
      "execution_count": 70,
      "outputs": [
        {
          "output_type": "execute_result",
          "data": {
            "text/plain": [
              "LinearRegression(copy_X=True, fit_intercept=True, n_jobs=None, normalize=False)"
            ]
          },
          "metadata": {
            "tags": []
          },
          "execution_count": 70
        }
      ]
    },
    {
      "cell_type": "code",
      "metadata": {
        "id": "MNeQvakK6z6E"
      },
      "source": [
        "from sklearn import metrics"
      ],
      "execution_count": 71,
      "outputs": []
    },
    {
      "cell_type": "code",
      "metadata": {
        "id": "xA-8oCme_5Lf"
      },
      "source": [
        "pred = regressor.predict(X_test)"
      ],
      "execution_count": 72,
      "outputs": []
    },
    {
      "cell_type": "code",
      "metadata": {
        "id": "tbNKJ23G8kvo",
        "outputId": "725fccec-d3b6-4654-b119-2a3dedf1bcab",
        "colab": {
          "base_uri": "https://localhost:8080/"
        }
      },
      "source": [
        "print(pred)"
      ],
      "execution_count": 73,
      "outputs": [
        {
          "output_type": "stream",
          "text": [
            "[ 1.70310143 18.61893405 11.14342901  9.26273519 13.22091322  1.81188002\n",
            "  3.13411144  1.51340263  3.63650577  6.46042364 -1.90983324  9.64318565\n",
            " 17.41598641  3.17009338  0.74836522 22.94697585  3.72036536 31.14928463\n",
            " 25.43794997  7.62640475 25.2991819  18.03836494  1.65611295  1.40930666\n",
            "  2.89061791 16.07047542 37.13564531  0.42800358  4.64411516  1.59504942\n",
            "  7.512197   16.86067032 -2.92011918 43.4887698  -2.15716253  6.12309523\n",
            "  5.34197749  6.04028969  7.76913859  8.7086797  12.64947221 20.13694188\n",
            "  7.36904458  6.06657961  2.74160536  4.18609044 11.65535723 10.98716639\n",
            "  3.84783648  6.06617737  8.1112595   5.49320522 22.86936347  6.18542737\n",
            "  9.50917783  8.99095848  7.01948292  1.22107264  6.93516605  8.03709479\n",
            " 27.33020928  8.16433843 20.20598061  3.28412952 12.89759674  0.94179265\n",
            " 51.17708125 59.83842745  2.3159163  12.49219113 16.35394433 -2.29333187\n",
            " 17.98822061  6.58911174  0.43055627  3.67773391 18.78971906  9.19084068\n",
            "  1.98115458  6.31582266 24.86681465 17.69241911  4.14655531 18.09536848\n",
            " -0.73899309 -0.1540183  25.57477089  8.24084318  5.28186452 16.41198631\n",
            " 16.38696886  3.94404672  3.02828929  5.03230263 16.92540619  8.61433861\n",
            "  1.19979834 13.21545581  3.45975691  6.98326141 13.74878888  7.72996984\n",
            "  1.87551827 11.81369535 10.16952584  5.23369633  3.73449509  3.22127369\n",
            " 20.51862221  3.05490482 43.93724672 -0.43687171  2.59834241 10.11890593\n",
            " 20.21282228  8.007856  ]\n"
          ],
          "name": "stdout"
        }
      ]
    },
    {
      "cell_type": "code",
      "metadata": {
        "id": "C-w-2_R4_553"
      },
      "source": [
        "RMSE = np.sqrt(metrics.mean_squared_error(Y_test, pred))"
      ],
      "execution_count": 74,
      "outputs": []
    },
    {
      "cell_type": "code",
      "metadata": {
        "id": "VPe3cbsXC0ju",
        "outputId": "eedb2d5e-1a54-4794-b630-1e99a3d118d3",
        "colab": {
          "base_uri": "https://localhost:8080/"
        }
      },
      "source": [
        "print(RMSE)"
      ],
      "execution_count": 75,
      "outputs": [
        {
          "output_type": "stream",
          "text": [
            "6.276964899844313\n"
          ],
          "name": "stdout"
        }
      ]
    },
    {
      "cell_type": "markdown",
      "metadata": {
        "id": "8Nncf8PT_iT5"
      },
      "source": [
        "# LASSO REGRESSION"
      ]
    },
    {
      "cell_type": "code",
      "metadata": {
        "id": "TChqb4k6twMk"
      },
      "source": [
        "from sklearn.linear_model import Lasso"
      ],
      "execution_count": 76,
      "outputs": []
    },
    {
      "cell_type": "code",
      "metadata": {
        "id": "LsLBULp_uWo6",
        "outputId": "ded167d8-e05f-4c6b-b9b9-67e98f4435ad",
        "colab": {
          "base_uri": "https://localhost:8080/"
        }
      },
      "source": [
        "reg = Lasso(alpha=1.0)\n",
        "reg.fit(X_train, Y_train)"
      ],
      "execution_count": 77,
      "outputs": [
        {
          "output_type": "execute_result",
          "data": {
            "text/plain": [
              "Lasso(alpha=1.0, copy_X=True, fit_intercept=True, max_iter=1000,\n",
              "      normalize=False, positive=False, precompute=False, random_state=None,\n",
              "      selection='cyclic', tol=0.0001, warm_start=False)"
            ]
          },
          "metadata": {
            "tags": []
          },
          "execution_count": 77
        }
      ]
    },
    {
      "cell_type": "code",
      "metadata": {
        "id": "Pytec52ZuWrb"
      },
      "source": [
        "pred= reg.predict(X_test)"
      ],
      "execution_count": 78,
      "outputs": []
    },
    {
      "cell_type": "code",
      "metadata": {
        "id": "oxByYJBX80Vl",
        "outputId": "f317c671-7a06-4870-c3c7-446c637e685f",
        "colab": {
          "base_uri": "https://localhost:8080/"
        }
      },
      "source": [
        "print(pred)"
      ],
      "execution_count": 79,
      "outputs": [
        {
          "output_type": "stream",
          "text": [
            "[ 3.98761444 22.2431065  12.71611439 13.15091381  9.84077998  3.97047202\n",
            "  3.98182233  4.5266162   4.54596209  7.4338917   1.02979289  9.07721708\n",
            " 17.3248199   4.43582961  0.70536408 17.44464975  7.94871594 29.29508037\n",
            " 24.95569627 11.18021785 22.35625537 15.45234324  4.99178674  1.29957993\n",
            "  4.54033762 11.05398468 36.10630113  3.08552999  6.58541106  3.26168427\n",
            "  8.93271875 13.57053343 -0.80563997 39.24624721  0.35405652  9.62873387\n",
            "  8.17104502  7.46121032  7.34195759  7.4576877  14.1674319  17.74225072\n",
            "  2.21058222  8.15408858  4.25740158  6.54998684 12.76474065  6.49264029\n",
            "  4.24100569  6.94293944  5.65648633  6.34744897 20.30249456  9.26084536\n",
            "  7.97384135  2.53295237 10.10759241  2.91008109  6.35931521  9.90312567\n",
            " 27.15092177  4.58847738 22.8776724   3.83249068 16.68353035  2.8538389\n",
            " 49.12555394 59.82587922  4.90690046 12.08255839 12.9500553   0.51559748\n",
            " 14.08895417  2.07853507  3.62492308  5.7486813  14.07860321 10.99692768\n",
            "  3.33944074  8.00741852 22.15568815 18.70361074  3.88657459 16.48665157\n",
            "  2.1474077   2.95790591 19.62235711  9.50244663  4.50482247 11.52205538\n",
            " 20.68954628  5.63471747  3.57028147  7.62846732 13.89879195 10.86633511\n",
            "  2.01441951 12.57248391  6.33765903  9.1996898  14.29559487  9.39553558\n",
            "  3.37024264 11.82138926 11.44090012  7.08782821  4.923021    5.01406529\n",
            " 20.6677072   2.74220214 63.10750977  2.6476737   3.97215496 14.84688208\n",
            " 18.49890833  9.16103898]\n"
          ],
          "name": "stdout"
        }
      ]
    },
    {
      "cell_type": "code",
      "metadata": {
        "id": "wfsfc5MKuWuM"
      },
      "source": [
        "RMSE = np.sqrt(metrics.mean_squared_error(Y_test, pred))"
      ],
      "execution_count": 80,
      "outputs": []
    },
    {
      "cell_type": "code",
      "metadata": {
        "id": "p4nuZauzuWws",
        "outputId": "00116417-8074-4d0f-bcf2-288d5d776ca0",
        "colab": {
          "base_uri": "https://localhost:8080/"
        }
      },
      "source": [
        "print(RMSE)"
      ],
      "execution_count": 81,
      "outputs": [
        {
          "output_type": "stream",
          "text": [
            "7.8093684285209735\n"
          ],
          "name": "stdout"
        }
      ]
    },
    {
      "cell_type": "markdown",
      "metadata": {
        "id": "Vo2xcjp1_mxY"
      },
      "source": [
        "# RIDGE REGRESSION"
      ]
    },
    {
      "cell_type": "code",
      "metadata": {
        "id": "hBSpyT7_uXJl"
      },
      "source": [
        "from sklearn.linear_model import Ridge"
      ],
      "execution_count": 82,
      "outputs": []
    },
    {
      "cell_type": "code",
      "metadata": {
        "id": "j3kp10TcuXMf",
        "outputId": "c2e3e350-00e3-4f26-9055-3107bbd8464f",
        "colab": {
          "base_uri": "https://localhost:8080/"
        }
      },
      "source": [
        "clf = Ridge(alpha=1.0)\n",
        "clf.fit(X_train, Y_train)"
      ],
      "execution_count": 83,
      "outputs": [
        {
          "output_type": "execute_result",
          "data": {
            "text/plain": [
              "Ridge(alpha=1.0, copy_X=True, fit_intercept=True, max_iter=None,\n",
              "      normalize=False, random_state=None, solver='auto', tol=0.001)"
            ]
          },
          "metadata": {
            "tags": []
          },
          "execution_count": 83
        }
      ]
    },
    {
      "cell_type": "code",
      "metadata": {
        "id": "Baia0WGWuXPg"
      },
      "source": [
        "pred= clf.predict(X_test)"
      ],
      "execution_count": 84,
      "outputs": []
    },
    {
      "cell_type": "code",
      "metadata": {
        "id": "z8AQZo5K89KO",
        "outputId": "7c4f0cdc-f895-4d71-e7e7-68a46d969c03",
        "colab": {
          "base_uri": "https://localhost:8080/"
        }
      },
      "source": [
        "print(pred)"
      ],
      "execution_count": 85,
      "outputs": [
        {
          "output_type": "stream",
          "text": [
            "[ 1.78500698 18.72348397 11.14783687  9.30928964 13.18242016  1.85004844\n",
            "  3.13320882  1.5478006   3.64631318  6.49640386 -1.88708842  9.59915868\n",
            " 17.3594591   3.22442863  0.79212363 22.92731861  3.70302607 31.11142803\n",
            " 25.4038225   7.67437138 25.26828952 17.96601484  1.64977756  1.45608273\n",
            "  2.90657886 16.07341767 37.0536358   0.49596712  4.62433041  1.66587182\n",
            "  7.64968593 16.89701858 -2.89760957 43.46443102 -2.13643291  6.13772162\n",
            "  5.34784882  6.08170913  7.74255302  8.71594658 12.58567985 20.05699243\n",
            "  6.93106054  6.0629123   2.79500203  4.27338475 11.56684723 10.95938722\n",
            "  3.8288693   6.08245951  8.08794915  5.50382349 22.76850064  6.24454695\n",
            "  9.45717387  8.5665724   7.0289418   1.32028189  7.02957642  8.00621374\n",
            " 27.32296666  8.17538054 20.23121818  3.37059631 12.93480652  1.02447913\n",
            " 51.28167351 60.04359619  2.40364854 12.42226742 16.3099342  -2.26513654\n",
            " 17.92347733  6.11530328  0.44405872  3.65488252 18.75533679  9.19231692\n",
            "  2.02578289  6.33657741 24.87503858 17.67536342  4.13604827 18.0758438\n",
            " -0.64570861 -0.10624379 25.60925503  8.23264291  5.37299801 16.35732777\n",
            " 16.45115887  3.99251168  3.10353132  5.15414799 16.88374023  8.65428995\n",
            "  1.25539261 13.27637885  3.53329508  7.06562859 13.74711765  7.72082731\n",
            "  1.9590824  11.8065889  10.17183882  5.23251952  3.77823795  3.21567534\n",
            " 20.46577235  3.13428557 44.11106206 -0.42519875  2.64858366 10.18092534\n",
            " 20.25482587  7.93957503]\n"
          ],
          "name": "stdout"
        }
      ]
    },
    {
      "cell_type": "code",
      "metadata": {
        "id": "o4XBR6fzuXRn"
      },
      "source": [
        "RMSE = np.sqrt(metrics.mean_squared_error(Y_test, pred))"
      ],
      "execution_count": 86,
      "outputs": []
    },
    {
      "cell_type": "code",
      "metadata": {
        "id": "T_xCUtVBvqSt",
        "outputId": "ecec00a3-c3b4-467f-c2b7-3f3dfe860526",
        "colab": {
          "base_uri": "https://localhost:8080/"
        }
      },
      "source": [
        "print(RMSE)"
      ],
      "execution_count": 87,
      "outputs": [
        {
          "output_type": "stream",
          "text": [
            "6.279079648258132\n"
          ],
          "name": "stdout"
        }
      ]
    },
    {
      "cell_type": "markdown",
      "metadata": {
        "id": "YW2TYvmk_rPX"
      },
      "source": [
        "# NEAREST NEIGHBOUR REGRESSOR"
      ]
    },
    {
      "cell_type": "code",
      "metadata": {
        "id": "WESq69MBvqV5",
        "outputId": "73a5c63d-21b8-4207-80f3-e317c36d0374",
        "colab": {
          "base_uri": "https://localhost:8080/"
        }
      },
      "source": [
        "from sklearn.neighbors import KNeighborsRegressor\n",
        "neigh = KNeighborsRegressor(n_neighbors=5)\n",
        "neigh.fit(X_train, Y_train)"
      ],
      "execution_count": 88,
      "outputs": [
        {
          "output_type": "execute_result",
          "data": {
            "text/plain": [
              "KNeighborsRegressor(algorithm='auto', leaf_size=30, metric='minkowski',\n",
              "                    metric_params=None, n_jobs=None, n_neighbors=5, p=2,\n",
              "                    weights='uniform')"
            ]
          },
          "metadata": {
            "tags": []
          },
          "execution_count": 88
        }
      ]
    },
    {
      "cell_type": "code",
      "metadata": {
        "id": "6pgKrM21vqY8"
      },
      "source": [
        "pred= neigh.predict(X_test)"
      ],
      "execution_count": 89,
      "outputs": []
    },
    {
      "cell_type": "code",
      "metadata": {
        "id": "OD47wfgU9DTK",
        "outputId": "41d3e09a-f14c-4037-cb5b-b3a8dc9c63e8",
        "colab": {
          "base_uri": "https://localhost:8080/"
        }
      },
      "source": [
        "print(pred)"
      ],
      "execution_count": 90,
      "outputs": [
        {
          "output_type": "stream",
          "text": [
            "[ 2.1  24.4  12.   13.3   5.5   4.85  3.9   2.5   3.    4.8   6.    5.6\n",
            " 23.    4.9   1.45 23.    7.2  28.6  30.   10.7  20.2  22.    4.4   0.7\n",
            "  3.4   6.3  26.    2.15  7.3   6.4   7.1   8.5   1.8  23.6   2.4  11.4\n",
            "  7.6  10.    4.    6.1  14.4  23.    1.8   9.2   4.    5.7  22.4   8.7\n",
            "  8.7   5.4   5.7   5.3  18.8   8.   18.2   0.7   8.6   1.45  5.1  14.\n",
            " 23.    8.5  20.1   7.3  13.3   0.7  56.   47.6   5.62 17.2  20.2   5.7\n",
            " 27.    1.75  2.25  4.5  12.    8.    5.2   5.5  20.2  11.6   4.8  22.\n",
            "  1.1   2.35 23.6   9.3   8.5  11.8  20.1   3.3   1.65  6.2  22.2   7.5\n",
            "  3.35  9.6   6.4   8.4  15.4  19.4   8.6  15.8   9.4   6.9   4.9   5.9\n",
            " 24.2   3.35 57.    6.81  8.5  14.1  19.8   9.2 ]\n"
          ],
          "name": "stdout"
        }
      ]
    },
    {
      "cell_type": "code",
      "metadata": {
        "id": "YvoyUDJdvqbc",
        "outputId": "f60b84f6-8376-4171-d4f1-7923a8d6d9ed",
        "colab": {
          "base_uri": "https://localhost:8080/"
        }
      },
      "source": [
        "RMSE = np.sqrt(metrics.mean_squared_error(Y_test, pred))\n",
        "print(RMSE)"
      ],
      "execution_count": 91,
      "outputs": [
        {
          "output_type": "stream",
          "text": [
            "8.044732427345624\n"
          ],
          "name": "stdout"
        }
      ]
    },
    {
      "cell_type": "markdown",
      "metadata": {
        "id": "7tYkT9td_xmR"
      },
      "source": [
        "# SUPPORT VECTOR REGRESSOR"
      ]
    },
    {
      "cell_type": "code",
      "metadata": {
        "id": "wb6V5H7YvrBE",
        "outputId": "3a63353d-0e0e-4b97-d195-c009609549f1",
        "colab": {
          "base_uri": "https://localhost:8080/"
        }
      },
      "source": [
        "from sklearn.svm import SVR\n",
        "sregressor = SVR(kernel = 'rbf')\n",
        "sregressor.fit(X_train, Y_train)"
      ],
      "execution_count": 92,
      "outputs": [
        {
          "output_type": "execute_result",
          "data": {
            "text/plain": [
              "SVR(C=1.0, cache_size=200, coef0=0.0, degree=3, epsilon=0.1, gamma='scale',\n",
              "    kernel='rbf', max_iter=-1, shrinking=True, tol=0.001, verbose=False)"
            ]
          },
          "metadata": {
            "tags": []
          },
          "execution_count": 92
        }
      ]
    },
    {
      "cell_type": "code",
      "metadata": {
        "id": "pdgj282uvrFG"
      },
      "source": [
        "pred= sregressor.predict(X_test)"
      ],
      "execution_count": 93,
      "outputs": []
    },
    {
      "cell_type": "code",
      "metadata": {
        "id": "vB5U_G089K9p",
        "outputId": "67c24394-2622-4e37-d385-616c4fe55ca6",
        "colab": {
          "base_uri": "https://localhost:8080/"
        }
      },
      "source": [
        "print(pred)"
      ],
      "execution_count": 94,
      "outputs": [
        {
          "output_type": "stream",
          "text": [
            "[ 2.96996011 21.78199717  7.51380715 19.51759329  9.98661551  3.56047438\n",
            "  3.55616805  2.78302788  3.38651292  4.11509873  3.88734316  5.41769659\n",
            " 21.88977841  3.45384389  2.55771778 17.47993581  6.53489477 21.85765697\n",
            " 21.25324362  8.9105487  19.29732718 21.34799689  3.13129659  2.45547825\n",
            "  3.52280539 10.06807416 20.09560471  2.64703737  4.35369726  3.866244\n",
            "  8.17630071  7.78597818  2.37269691 20.35306479  3.00125749 10.99023591\n",
            "  6.50918543  5.70042427  3.30803428  4.99081916 10.90127185 21.35251557\n",
            "  2.39783162  6.83875797  3.30201342  3.53240987 21.87450268  4.7853562\n",
            "  4.71773109  4.89718568  8.10306614  4.22096274 22.02040287 11.77523583\n",
            " 14.45176646  2.44522739 10.26455551  2.19990579  3.64045488  8.73450886\n",
            " 20.98608619  5.07968388 20.66039956  4.86536616 19.90939889  2.44916892\n",
            " 23.40318464 22.22039368  5.67107044 18.54887916 13.70058879  3.48211373\n",
            " 16.7306728   2.62193755  3.14043143  3.49056882  8.00398715  7.23525173\n",
            "  3.99713472  6.38637469 16.11805486 11.18153557  3.10291772 21.64031785\n",
            "  2.47959904  3.05502482 17.79414298 10.75256523  4.92794595  9.60853993\n",
            " 20.15940964  2.93132774  2.34529231 10.36207863 14.54169895  7.08769814\n",
            "  3.05054848 11.30716277  3.8936496  11.19927714  9.0232786  11.66681018\n",
            "  4.08438358 12.73995569  6.38113543  4.99406295  3.45414724  4.91077887\n",
            " 20.73788993  3.084963   17.6096646   6.54229131  4.27528509 20.01348055\n",
            " 21.0136327  11.78024799]\n"
          ],
          "name": "stdout"
        }
      ]
    },
    {
      "cell_type": "code",
      "metadata": {
        "id": "o0YSt6UM0a7h",
        "outputId": "ce150381-ab94-4ff3-8a85-23ed6a8aad01",
        "colab": {
          "base_uri": "https://localhost:8080/"
        }
      },
      "source": [
        "RMSE = np.sqrt(metrics.mean_squared_error(Y_test, pred))\n",
        "print(RMSE)"
      ],
      "execution_count": 95,
      "outputs": [
        {
          "output_type": "stream",
          "text": [
            "8.809050257909\n"
          ],
          "name": "stdout"
        }
      ]
    },
    {
      "cell_type": "markdown",
      "metadata": {
        "id": "vuZZ3S71_4nY"
      },
      "source": [
        "# TREE REGRESSOR"
      ]
    },
    {
      "cell_type": "code",
      "metadata": {
        "id": "B2w27-kB0n8q",
        "outputId": "011e165e-3cb9-489b-ca42-c378de8c66e7",
        "colab": {
          "base_uri": "https://localhost:8080/"
        }
      },
      "source": [
        "from sklearn.tree import DecisionTreeRegressor\n",
        "tregressor = DecisionTreeRegressor(random_state=0)\n",
        "tregressor.fit(X_train, Y_train)"
      ],
      "execution_count": 96,
      "outputs": [
        {
          "output_type": "execute_result",
          "data": {
            "text/plain": [
              "DecisionTreeRegressor(ccp_alpha=0.0, criterion='mse', max_depth=None,\n",
              "                      max_features=None, max_leaf_nodes=None,\n",
              "                      min_impurity_decrease=0.0, min_impurity_split=None,\n",
              "                      min_samples_leaf=1, min_samples_split=2,\n",
              "                      min_weight_fraction_leaf=0.0, presort='deprecated',\n",
              "                      random_state=0, splitter='best')"
            ]
          },
          "metadata": {
            "tags": []
          },
          "execution_count": 96
        }
      ]
    },
    {
      "cell_type": "code",
      "metadata": {
        "id": "06K4kZuq0oAK"
      },
      "source": [
        "pred= tregressor.predict(X_test)"
      ],
      "execution_count": 97,
      "outputs": []
    },
    {
      "cell_type": "code",
      "metadata": {
        "id": "8vCgVu789RPl",
        "outputId": "df679feb-099c-4932-c329-faee566465fd",
        "colab": {
          "base_uri": "https://localhost:8080/"
        }
      },
      "source": [
        "print(pred)"
      ],
      "execution_count": 98,
      "outputs": [
        {
          "output_type": "stream",
          "text": [
            "[ 0.25 12.    1.   15.   12.    0.75  2.5   0.5   5.    5.    2.   12.\n",
            " 15.    2.    0.5  20.   15.   20.   25.    6.   24.   15.    2.5   5.\n",
            "  3.   15.   28.    2.5   4.    3.5  18.    9.    0.5  40.    1.   10.\n",
            "  1.    6.    2.5   9.    7.    4.    5.    9.    5.5   0.75  1.5   6.\n",
            "  5.    8.    7.   15.   35.    6.    6.    6.   10.    0.75  6.   15.\n",
            " 28.    7.   18.    3.    8.    0.5  50.   45.    5.    2.5  18.    1.\n",
            " 20.    3.5   3.    1.5  13.   15.    2.    5.   30.    8.    2.5  12.\n",
            "  0.25  5.   30.   20.    5.   12.    8.    1.    0.75  9.   10.    7.\n",
            "  1.5  20.   12.    8.    7.    4.    5.   20.    6.    2.   10.    8.\n",
            " 10.    6.   16.    1.5   3.5  15.   15.   20.  ]\n"
          ],
          "name": "stdout"
        }
      ]
    },
    {
      "cell_type": "code",
      "metadata": {
        "id": "SKlbVHWD0oDv",
        "outputId": "c4f476ee-2761-44e6-bbe5-bf7d6dd64787",
        "colab": {
          "base_uri": "https://localhost:8080/"
        }
      },
      "source": [
        "RMSE = np.sqrt(metrics.mean_squared_error(Y_test, pred))\n",
        "print(RMSE)"
      ],
      "execution_count": 99,
      "outputs": [
        {
          "output_type": "stream",
          "text": [
            "6.63698493033676\n"
          ],
          "name": "stdout"
        }
      ]
    },
    {
      "cell_type": "markdown",
      "metadata": {
        "id": "x-fMqULt_7k-"
      },
      "source": [
        "# RANDOM FOREST REGRESSOR"
      ]
    },
    {
      "cell_type": "code",
      "metadata": {
        "id": "Cc6Js7Oa0oJl",
        "outputId": "84d9adfa-33d7-430e-91a7-0562bc7b205f",
        "colab": {
          "base_uri": "https://localhost:8080/"
        }
      },
      "source": [
        "from sklearn.ensemble import RandomForestRegressor\n",
        "rregressor = RandomForestRegressor(n_estimators = 100, random_state = 0)\n",
        "rregressor.fit(X_train, Y_train)"
      ],
      "execution_count": 100,
      "outputs": [
        {
          "output_type": "execute_result",
          "data": {
            "text/plain": [
              "RandomForestRegressor(bootstrap=True, ccp_alpha=0.0, criterion='mse',\n",
              "                      max_depth=None, max_features='auto', max_leaf_nodes=None,\n",
              "                      max_samples=None, min_impurity_decrease=0.0,\n",
              "                      min_impurity_split=None, min_samples_leaf=1,\n",
              "                      min_samples_split=2, min_weight_fraction_leaf=0.0,\n",
              "                      n_estimators=100, n_jobs=None, oob_score=False,\n",
              "                      random_state=0, verbose=0, warm_start=False)"
            ]
          },
          "metadata": {
            "tags": []
          },
          "execution_count": 100
        }
      ]
    },
    {
      "cell_type": "code",
      "metadata": {
        "id": "1o4A8lea0a-V"
      },
      "source": [
        "pred= rregressor.predict(X_test)"
      ],
      "execution_count": 101,
      "outputs": []
    },
    {
      "cell_type": "code",
      "metadata": {
        "id": "s_vRJ0ur9Y8g",
        "outputId": "43064b3b-29e5-4ba5-a962-6f80b1ea964b",
        "colab": {
          "base_uri": "https://localhost:8080/"
        }
      },
      "source": [
        "print(pred)"
      ],
      "execution_count": 102,
      "outputs": [
        {
          "output_type": "stream",
          "text": [
            "[ 1.374  17.465   6.001  12.68    8.79    1.995   3.855   1.635   4.44\n",
            "  6.825   3.278   8.54   17.17    5.14    2.0125 16.2     6.645  24.92\n",
            " 21.415   8.61   30.08   19.05    3.625   1.83    4.3325 10.97   30.04\n",
            "  2.6365  4.513   5.0755 11.055  17.48    0.71   34.76    1.488  10.675\n",
            "  7.025   9.155   5.5415  8.515  11.18   16.19    2.835   5.9005  3.993\n",
            "  4.8825  6.87    5.702   5.656   7.13    6.95    5.775  29.05    9.375\n",
            "  9.615   3.4205 10.6     0.756   6.75    8.17   25.66    5.6685 17.125\n",
            "  6.39   14.71    1.321  50.78   53.53    6.031   8.49   20.695   2.839\n",
            " 21.24    3.2275  3.085   3.05   15.63    7.681   3.1065  7.975  29.19\n",
            " 15.065   3.71   17.08    1.315   2.89   27.12   11.395   5.497  13.74\n",
            " 20.295   2.9075  2.753   6.7    17.075  10.545   3.0225 14.125   6.2075\n",
            " 10.4    13.27   10.16    4.93   13.025   9.51    5.1985  3.855   6.415\n",
            " 15.325   3.5715 35.105   2.667   4.6155 11.865  15.53   10.67  ]\n"
          ],
          "name": "stdout"
        }
      ]
    },
    {
      "cell_type": "code",
      "metadata": {
        "id": "SjUGwUex0bB_",
        "outputId": "e127d8dd-764f-4f59-919b-fc9bbb400d4f",
        "colab": {
          "base_uri": "https://localhost:8080/"
        }
      },
      "source": [
        "RMSE = np.sqrt(metrics.mean_squared_error(Y_test, pred))\n",
        "print(RMSE)"
      ],
      "execution_count": 103,
      "outputs": [
        {
          "output_type": "stream",
          "text": [
            "5.541554655704045\n"
          ],
          "name": "stdout"
        }
      ]
    },
    {
      "cell_type": "markdown",
      "metadata": {
        "id": "PxOQsgZMAAj-"
      },
      "source": [
        "# GRADIENT BOOSTING REGRESSOR"
      ]
    },
    {
      "cell_type": "code",
      "metadata": {
        "id": "fzNdOot10bEX",
        "outputId": "6e0743b3-8324-4364-da08-12b31536d9a3",
        "colab": {
          "base_uri": "https://localhost:8080/"
        }
      },
      "source": [
        "from sklearn.ensemble import GradientBoostingRegressor\n",
        "REGGB = GradientBoostingRegressor(random_state=0)\n",
        "REGGB.fit(X_train, Y_train)"
      ],
      "execution_count": 104,
      "outputs": [
        {
          "output_type": "execute_result",
          "data": {
            "text/plain": [
              "GradientBoostingRegressor(alpha=0.9, ccp_alpha=0.0, criterion='friedman_mse',\n",
              "                          init=None, learning_rate=0.1, loss='ls', max_depth=3,\n",
              "                          max_features=None, max_leaf_nodes=None,\n",
              "                          min_impurity_decrease=0.0, min_impurity_split=None,\n",
              "                          min_samples_leaf=1, min_samples_split=2,\n",
              "                          min_weight_fraction_leaf=0.0, n_estimators=100,\n",
              "                          n_iter_no_change=None, presort='deprecated',\n",
              "                          random_state=0, subsample=1.0, tol=0.0001,\n",
              "                          validation_fraction=0.1, verbose=0, warm_start=False)"
            ]
          },
          "metadata": {
            "tags": []
          },
          "execution_count": 104
        }
      ]
    },
    {
      "cell_type": "code",
      "metadata": {
        "id": "omX6Q8W00bHO"
      },
      "source": [
        "pred= REGGB.predict(X_test)"
      ],
      "execution_count": 105,
      "outputs": []
    },
    {
      "cell_type": "code",
      "metadata": {
        "id": "aE_00muJ0bJ9",
        "outputId": "39005581-2f54-44a0-8d91-d8063f1d3809",
        "colab": {
          "base_uri": "https://localhost:8080/"
        }
      },
      "source": [
        "print(pred)"
      ],
      "execution_count": 106,
      "outputs": [
        {
          "output_type": "stream",
          "text": [
            "[ 0.90602794 17.36769438  3.67429342 12.3262993   5.53109106  1.3413235\n",
            "  3.27744022  0.79605546  3.72802815  8.12268384  1.51902835  8.2818338\n",
            " 12.81526617  5.52612824  0.52602921 15.1372918   4.52105033 26.30567518\n",
            " 22.74718303  7.11233871 34.19974225 21.34991767  2.09862128  1.40852057\n",
            "  6.70277386 11.95428973 34.04133058  2.45857871  5.52886373  2.96008766\n",
            " 11.84579843 22.6858592  -0.87868668 37.42019142 -0.69540258 10.4433931\n",
            "  7.16794027  9.03649679  6.85871098  9.67772158 12.39373294 12.59786345\n",
            "  2.65693934  0.66630728  4.53757393  4.29127193  6.75686804  2.57897826\n",
            "  3.92414275  6.90057126  8.49939722  5.10781931 25.57408887  8.4838468\n",
            "  9.64916812  3.64031799 11.07844146 -0.68871505  6.47479041  4.42310306\n",
            " 22.23017467  7.2822515  16.06212956  4.96028098 11.16066525 -0.73163042\n",
            " 46.8426356  55.2116949   6.73168121  3.66694871 19.93182568 -0.28366495\n",
            " 21.39886321  3.70040191  3.09788967  2.55350379 18.9940213   3.82845814\n",
            "  3.71617582  5.47702094 37.86869863 16.21194307  4.1441723  18.52861598\n",
            " -0.07686171  2.06541463 30.22610733 11.81595241  4.55566384 18.14002671\n",
            " 20.98288825  3.12397393  3.43233531  1.81709427 15.85225555  9.05037888\n",
            "  1.90737432 12.41663005  6.63893398 10.38800076 13.65422319  7.09304555\n",
            "  5.28347455  9.71166904  9.43665693  4.45838084  5.01651261  7.25864234\n",
            " 12.49995465  2.35560754 31.45985337  0.91223     3.67632081  6.04241176\n",
            " 16.61133205 12.90931057]\n"
          ],
          "name": "stdout"
        }
      ]
    },
    {
      "cell_type": "code",
      "metadata": {
        "id": "hYtPLjGS0bM-",
        "outputId": "962da226-0f4f-4331-e380-4b0eb706f1c3",
        "colab": {
          "base_uri": "https://localhost:8080/"
        }
      },
      "source": [
        "RMSE = np.sqrt(metrics.mean_squared_error(Y_test, pred))\n",
        "print(RMSE)"
      ],
      "execution_count": 107,
      "outputs": [
        {
          "output_type": "stream",
          "text": [
            "5.347902407831462\n"
          ],
          "name": "stdout"
        }
      ]
    }
  ]
}