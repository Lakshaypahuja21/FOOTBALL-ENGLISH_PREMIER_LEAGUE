{
  "nbformat": 4,
  "nbformat_minor": 0,
  "metadata": {
    "colab": {
      "name": "Missing Values",
      "provenance": [],
      "authorship_tag": "ABX9TyNww3K3wAkoKqZX0lQnWWNi"
    },
    "kernelspec": {
      "name": "python3",
      "display_name": "Python 3"
    }
  },
  "cells": [
    {
      "cell_type": "markdown",
      "metadata": {
        "id": "zXgLJ0DAW3jk"
      },
      "source": [
        "# lib"
      ]
    },
    {
      "cell_type": "code",
      "metadata": {
        "id": "qLrrrFqqCKcE"
      },
      "source": [
        "import pandas as pd"
      ],
      "execution_count": 15,
      "outputs": []
    },
    {
      "cell_type": "markdown",
      "metadata": {
        "id": "4d9QxhUCW7iR"
      },
      "source": [
        "# dataset"
      ]
    },
    {
      "cell_type": "code",
      "metadata": {
        "id": "8xJpjjsWCfUb",
        "outputId": "291b9383-9fb1-4db3-980a-7b07ddbf0f99",
        "colab": {
          "base_uri": "https://localhost:8080/",
          "height": 462
        }
      },
      "source": [
        "df = pd.read_csv('football.csv')\n",
        "df[25:35]"
      ],
      "execution_count": 16,
      "outputs": [
        {
          "output_type": "execute_result",
          "data": {
            "text/html": [
              "<div>\n",
              "<style scoped>\n",
              "    .dataframe tbody tr th:only-of-type {\n",
              "        vertical-align: middle;\n",
              "    }\n",
              "\n",
              "    .dataframe tbody tr th {\n",
              "        vertical-align: top;\n",
              "    }\n",
              "\n",
              "    .dataframe thead th {\n",
              "        text-align: right;\n",
              "    }\n",
              "</style>\n",
              "<table border=\"1\" class=\"dataframe\">\n",
              "  <thead>\n",
              "    <tr style=\"text-align: right;\">\n",
              "      <th></th>\n",
              "      <th>name</th>\n",
              "      <th>club</th>\n",
              "      <th>age</th>\n",
              "      <th>position</th>\n",
              "      <th>position_cat</th>\n",
              "      <th>market_value</th>\n",
              "      <th>page_views</th>\n",
              "      <th>fpl_value</th>\n",
              "      <th>fpl_sel</th>\n",
              "      <th>fpl_points</th>\n",
              "      <th>region</th>\n",
              "      <th>nationality</th>\n",
              "      <th>new_foreign</th>\n",
              "      <th>age_cat</th>\n",
              "      <th>club_id</th>\n",
              "      <th>big_club</th>\n",
              "      <th>new_signing</th>\n",
              "    </tr>\n",
              "  </thead>\n",
              "  <tbody>\n",
              "    <tr>\n",
              "      <th>25</th>\n",
              "      <td>Per Mertesacker</td>\n",
              "      <td>Arsenal</td>\n",
              "      <td>32</td>\n",
              "      <td>CB</td>\n",
              "      <td>3</td>\n",
              "      <td>6.0</td>\n",
              "      <td>702</td>\n",
              "      <td>5.0</td>\n",
              "      <td>1.00%</td>\n",
              "      <td>1</td>\n",
              "      <td>2.0</td>\n",
              "      <td>Germany</td>\n",
              "      <td>0</td>\n",
              "      <td>5</td>\n",
              "      <td>1</td>\n",
              "      <td>1</td>\n",
              "      <td>0</td>\n",
              "    </tr>\n",
              "    <tr>\n",
              "      <th>26</th>\n",
              "      <td>Sead Kolasinac</td>\n",
              "      <td>Arsenal</td>\n",
              "      <td>24</td>\n",
              "      <td>LB</td>\n",
              "      <td>3</td>\n",
              "      <td>15.0</td>\n",
              "      <td>618</td>\n",
              "      <td>6.0</td>\n",
              "      <td>6.90%</td>\n",
              "      <td>0</td>\n",
              "      <td>2.0</td>\n",
              "      <td>Bosnia</td>\n",
              "      <td>1</td>\n",
              "      <td>2</td>\n",
              "      <td>1</td>\n",
              "      <td>1</td>\n",
              "      <td>0</td>\n",
              "    </tr>\n",
              "    <tr>\n",
              "      <th>27</th>\n",
              "      <td>Alexandre Lacazette</td>\n",
              "      <td>Arsenal</td>\n",
              "      <td>26</td>\n",
              "      <td>CF</td>\n",
              "      <td>1</td>\n",
              "      <td>40.0</td>\n",
              "      <td>1183</td>\n",
              "      <td>10.5</td>\n",
              "      <td>26.50%</td>\n",
              "      <td>0</td>\n",
              "      <td>2.0</td>\n",
              "      <td>France</td>\n",
              "      <td>1</td>\n",
              "      <td>3</td>\n",
              "      <td>1</td>\n",
              "      <td>1</td>\n",
              "      <td>0</td>\n",
              "    </tr>\n",
              "    <tr>\n",
              "      <th>28</th>\n",
              "      <td>Joshua King</td>\n",
              "      <td>Bournemouth</td>\n",
              "      <td>25</td>\n",
              "      <td>SS</td>\n",
              "      <td>1</td>\n",
              "      <td>8.0</td>\n",
              "      <td>997</td>\n",
              "      <td>7.5</td>\n",
              "      <td>10.40%</td>\n",
              "      <td>178</td>\n",
              "      <td>2.0</td>\n",
              "      <td>Norway</td>\n",
              "      <td>0</td>\n",
              "      <td>3</td>\n",
              "      <td>2</td>\n",
              "      <td>0</td>\n",
              "      <td>0</td>\n",
              "    </tr>\n",
              "    <tr>\n",
              "      <th>29</th>\n",
              "      <td>Jermain Defoe</td>\n",
              "      <td>Bournemouth</td>\n",
              "      <td>34</td>\n",
              "      <td>CF</td>\n",
              "      <td>1</td>\n",
              "      <td>5.0</td>\n",
              "      <td>3213</td>\n",
              "      <td>8.0</td>\n",
              "      <td>15.00%</td>\n",
              "      <td>166</td>\n",
              "      <td>1.0</td>\n",
              "      <td>England</td>\n",
              "      <td>0</td>\n",
              "      <td>6</td>\n",
              "      <td>2</td>\n",
              "      <td>0</td>\n",
              "      <td>0</td>\n",
              "    </tr>\n",
              "    <tr>\n",
              "      <th>30</th>\n",
              "      <td>Charlie Daniels</td>\n",
              "      <td>Bournemouth</td>\n",
              "      <td>30</td>\n",
              "      <td>LB</td>\n",
              "      <td>3</td>\n",
              "      <td>3.0</td>\n",
              "      <td>185</td>\n",
              "      <td>5.0</td>\n",
              "      <td>19.80%</td>\n",
              "      <td>134</td>\n",
              "      <td>1.0</td>\n",
              "      <td>England</td>\n",
              "      <td>0</td>\n",
              "      <td>4</td>\n",
              "      <td>2</td>\n",
              "      <td>0</td>\n",
              "      <td>0</td>\n",
              "    </tr>\n",
              "    <tr>\n",
              "      <th>31</th>\n",
              "      <td>Artur Boruc</td>\n",
              "      <td>Bournemouth</td>\n",
              "      <td>37</td>\n",
              "      <td>GK</td>\n",
              "      <td>4</td>\n",
              "      <td>1.0</td>\n",
              "      <td>436</td>\n",
              "      <td>4.5</td>\n",
              "      <td>6.90%</td>\n",
              "      <td>120</td>\n",
              "      <td>2.0</td>\n",
              "      <td>Poland</td>\n",
              "      <td>0</td>\n",
              "      <td>6</td>\n",
              "      <td>2</td>\n",
              "      <td>0</td>\n",
              "      <td>0</td>\n",
              "    </tr>\n",
              "    <tr>\n",
              "      <th>32</th>\n",
              "      <td>Steve Cook</td>\n",
              "      <td>Bournemouth</td>\n",
              "      <td>26</td>\n",
              "      <td>CB</td>\n",
              "      <td>3</td>\n",
              "      <td>5.0</td>\n",
              "      <td>184</td>\n",
              "      <td>5.0</td>\n",
              "      <td>2.00%</td>\n",
              "      <td>112</td>\n",
              "      <td>1.0</td>\n",
              "      <td>England</td>\n",
              "      <td>0</td>\n",
              "      <td>3</td>\n",
              "      <td>2</td>\n",
              "      <td>0</td>\n",
              "      <td>0</td>\n",
              "    </tr>\n",
              "    <tr>\n",
              "      <th>33</th>\n",
              "      <td>Junior Stanislas</td>\n",
              "      <td>Bournemouth</td>\n",
              "      <td>27</td>\n",
              "      <td>LW</td>\n",
              "      <td>1</td>\n",
              "      <td>4.5</td>\n",
              "      <td>315</td>\n",
              "      <td>6.0</td>\n",
              "      <td>0.60%</td>\n",
              "      <td>107</td>\n",
              "      <td>1.0</td>\n",
              "      <td>England</td>\n",
              "      <td>0</td>\n",
              "      <td>3</td>\n",
              "      <td>2</td>\n",
              "      <td>0</td>\n",
              "      <td>0</td>\n",
              "    </tr>\n",
              "    <tr>\n",
              "      <th>34</th>\n",
              "      <td>Adam Smith</td>\n",
              "      <td>Bournemouth</td>\n",
              "      <td>26</td>\n",
              "      <td>RB</td>\n",
              "      <td>3</td>\n",
              "      <td>5.0</td>\n",
              "      <td>200</td>\n",
              "      <td>5.0</td>\n",
              "      <td>0.90%</td>\n",
              "      <td>104</td>\n",
              "      <td>1.0</td>\n",
              "      <td>England</td>\n",
              "      <td>0</td>\n",
              "      <td>3</td>\n",
              "      <td>2</td>\n",
              "      <td>0</td>\n",
              "      <td>0</td>\n",
              "    </tr>\n",
              "  </tbody>\n",
              "</table>\n",
              "</div>"
            ],
            "text/plain": [
              "                   name         club  age  ... club_id  big_club  new_signing\n",
              "25      Per Mertesacker      Arsenal   32  ...       1         1            0\n",
              "26       Sead Kolasinac      Arsenal   24  ...       1         1            0\n",
              "27  Alexandre Lacazette      Arsenal   26  ...       1         1            0\n",
              "28          Joshua King  Bournemouth   25  ...       2         0            0\n",
              "29        Jermain Defoe  Bournemouth   34  ...       2         0            0\n",
              "30      Charlie Daniels  Bournemouth   30  ...       2         0            0\n",
              "31          Artur Boruc  Bournemouth   37  ...       2         0            0\n",
              "32           Steve Cook  Bournemouth   26  ...       2         0            0\n",
              "33     Junior Stanislas  Bournemouth   27  ...       2         0            0\n",
              "34           Adam Smith  Bournemouth   26  ...       2         0            0\n",
              "\n",
              "[10 rows x 17 columns]"
            ]
          },
          "metadata": {
            "tags": []
          },
          "execution_count": 16
        }
      ]
    },
    {
      "cell_type": "code",
      "metadata": {
        "id": "mq_Gbz0oCkmS",
        "outputId": "98b9fcd6-0816-4c1c-f2c7-a4d0abb0d832",
        "colab": {
          "base_uri": "https://localhost:8080/",
          "height": 0
        }
      },
      "source": [
        "df.shape"
      ],
      "execution_count": 17,
      "outputs": [
        {
          "output_type": "execute_result",
          "data": {
            "text/plain": [
              "(461, 17)"
            ]
          },
          "metadata": {
            "tags": []
          },
          "execution_count": 17
        }
      ]
    },
    {
      "cell_type": "code",
      "metadata": {
        "id": "SUUjyZuNCpA7",
        "outputId": "f155d407-c031-4e92-b326-f42cfa612204",
        "colab": {
          "base_uri": "https://localhost:8080/",
          "height": 0
        }
      },
      "source": [
        "df.columns"
      ],
      "execution_count": 18,
      "outputs": [
        {
          "output_type": "execute_result",
          "data": {
            "text/plain": [
              "Index(['name', 'club', 'age', 'position', 'position_cat', 'market_value',\n",
              "       'page_views', 'fpl_value', 'fpl_sel', 'fpl_points', 'region',\n",
              "       'nationality', 'new_foreign', 'age_cat', 'club_id', 'big_club',\n",
              "       'new_signing'],\n",
              "      dtype='object')"
            ]
          },
          "metadata": {
            "tags": []
          },
          "execution_count": 18
        }
      ]
    },
    {
      "cell_type": "code",
      "metadata": {
        "id": "e1vqwaMQrYfP",
        "outputId": "4dc8883c-80ab-4a43-89ea-dfa86fbb6dda",
        "colab": {
          "base_uri": "https://localhost:8080/",
          "height": 302
        }
      },
      "source": [
        "df.describe()"
      ],
      "execution_count": 19,
      "outputs": [
        {
          "output_type": "execute_result",
          "data": {
            "text/html": [
              "<div>\n",
              "<style scoped>\n",
              "    .dataframe tbody tr th:only-of-type {\n",
              "        vertical-align: middle;\n",
              "    }\n",
              "\n",
              "    .dataframe tbody tr th {\n",
              "        vertical-align: top;\n",
              "    }\n",
              "\n",
              "    .dataframe thead th {\n",
              "        text-align: right;\n",
              "    }\n",
              "</style>\n",
              "<table border=\"1\" class=\"dataframe\">\n",
              "  <thead>\n",
              "    <tr style=\"text-align: right;\">\n",
              "      <th></th>\n",
              "      <th>age</th>\n",
              "      <th>position_cat</th>\n",
              "      <th>market_value</th>\n",
              "      <th>page_views</th>\n",
              "      <th>fpl_value</th>\n",
              "      <th>fpl_points</th>\n",
              "      <th>region</th>\n",
              "      <th>new_foreign</th>\n",
              "      <th>age_cat</th>\n",
              "      <th>club_id</th>\n",
              "      <th>big_club</th>\n",
              "      <th>new_signing</th>\n",
              "    </tr>\n",
              "  </thead>\n",
              "  <tbody>\n",
              "    <tr>\n",
              "      <th>count</th>\n",
              "      <td>461.000000</td>\n",
              "      <td>461.000000</td>\n",
              "      <td>461.000000</td>\n",
              "      <td>461.000000</td>\n",
              "      <td>461.000000</td>\n",
              "      <td>461.000000</td>\n",
              "      <td>460.000000</td>\n",
              "      <td>461.000000</td>\n",
              "      <td>461.000000</td>\n",
              "      <td>461.000000</td>\n",
              "      <td>461.000000</td>\n",
              "      <td>461.000000</td>\n",
              "    </tr>\n",
              "    <tr>\n",
              "      <th>mean</th>\n",
              "      <td>26.804772</td>\n",
              "      <td>2.180043</td>\n",
              "      <td>11.012039</td>\n",
              "      <td>763.776573</td>\n",
              "      <td>5.447939</td>\n",
              "      <td>57.314534</td>\n",
              "      <td>1.993478</td>\n",
              "      <td>0.034707</td>\n",
              "      <td>3.206074</td>\n",
              "      <td>10.334056</td>\n",
              "      <td>0.303688</td>\n",
              "      <td>0.145336</td>\n",
              "    </tr>\n",
              "    <tr>\n",
              "      <th>std</th>\n",
              "      <td>3.961892</td>\n",
              "      <td>1.000061</td>\n",
              "      <td>12.257403</td>\n",
              "      <td>931.805757</td>\n",
              "      <td>1.346695</td>\n",
              "      <td>53.113811</td>\n",
              "      <td>0.957689</td>\n",
              "      <td>0.183236</td>\n",
              "      <td>1.279795</td>\n",
              "      <td>5.726475</td>\n",
              "      <td>0.460349</td>\n",
              "      <td>0.352822</td>\n",
              "    </tr>\n",
              "    <tr>\n",
              "      <th>min</th>\n",
              "      <td>17.000000</td>\n",
              "      <td>1.000000</td>\n",
              "      <td>0.050000</td>\n",
              "      <td>3.000000</td>\n",
              "      <td>4.000000</td>\n",
              "      <td>0.000000</td>\n",
              "      <td>1.000000</td>\n",
              "      <td>0.000000</td>\n",
              "      <td>1.000000</td>\n",
              "      <td>1.000000</td>\n",
              "      <td>0.000000</td>\n",
              "      <td>0.000000</td>\n",
              "    </tr>\n",
              "    <tr>\n",
              "      <th>25%</th>\n",
              "      <td>24.000000</td>\n",
              "      <td>1.000000</td>\n",
              "      <td>3.000000</td>\n",
              "      <td>220.000000</td>\n",
              "      <td>4.500000</td>\n",
              "      <td>5.000000</td>\n",
              "      <td>1.000000</td>\n",
              "      <td>0.000000</td>\n",
              "      <td>2.000000</td>\n",
              "      <td>6.000000</td>\n",
              "      <td>0.000000</td>\n",
              "      <td>0.000000</td>\n",
              "    </tr>\n",
              "    <tr>\n",
              "      <th>50%</th>\n",
              "      <td>27.000000</td>\n",
              "      <td>2.000000</td>\n",
              "      <td>7.000000</td>\n",
              "      <td>460.000000</td>\n",
              "      <td>5.000000</td>\n",
              "      <td>51.000000</td>\n",
              "      <td>2.000000</td>\n",
              "      <td>0.000000</td>\n",
              "      <td>3.000000</td>\n",
              "      <td>10.000000</td>\n",
              "      <td>0.000000</td>\n",
              "      <td>0.000000</td>\n",
              "    </tr>\n",
              "    <tr>\n",
              "      <th>75%</th>\n",
              "      <td>30.000000</td>\n",
              "      <td>3.000000</td>\n",
              "      <td>15.000000</td>\n",
              "      <td>896.000000</td>\n",
              "      <td>5.500000</td>\n",
              "      <td>94.000000</td>\n",
              "      <td>2.000000</td>\n",
              "      <td>0.000000</td>\n",
              "      <td>4.000000</td>\n",
              "      <td>15.000000</td>\n",
              "      <td>1.000000</td>\n",
              "      <td>0.000000</td>\n",
              "    </tr>\n",
              "    <tr>\n",
              "      <th>max</th>\n",
              "      <td>38.000000</td>\n",
              "      <td>4.000000</td>\n",
              "      <td>75.000000</td>\n",
              "      <td>7664.000000</td>\n",
              "      <td>12.500000</td>\n",
              "      <td>264.000000</td>\n",
              "      <td>4.000000</td>\n",
              "      <td>1.000000</td>\n",
              "      <td>6.000000</td>\n",
              "      <td>20.000000</td>\n",
              "      <td>1.000000</td>\n",
              "      <td>1.000000</td>\n",
              "    </tr>\n",
              "  </tbody>\n",
              "</table>\n",
              "</div>"
            ],
            "text/plain": [
              "              age  position_cat  ...    big_club  new_signing\n",
              "count  461.000000    461.000000  ...  461.000000   461.000000\n",
              "mean    26.804772      2.180043  ...    0.303688     0.145336\n",
              "std      3.961892      1.000061  ...    0.460349     0.352822\n",
              "min     17.000000      1.000000  ...    0.000000     0.000000\n",
              "25%     24.000000      1.000000  ...    0.000000     0.000000\n",
              "50%     27.000000      2.000000  ...    0.000000     0.000000\n",
              "75%     30.000000      3.000000  ...    1.000000     0.000000\n",
              "max     38.000000      4.000000  ...    1.000000     1.000000\n",
              "\n",
              "[8 rows x 12 columns]"
            ]
          },
          "metadata": {
            "tags": []
          },
          "execution_count": 19
        }
      ]
    },
    {
      "cell_type": "code",
      "metadata": {
        "id": "AxjWa3uhrdHA",
        "outputId": "0f55743a-838b-475e-c1cd-facd647d5e3b",
        "colab": {
          "base_uri": "https://localhost:8080/",
          "height": 0
        }
      },
      "source": [
        "df.info()"
      ],
      "execution_count": 20,
      "outputs": [
        {
          "output_type": "stream",
          "text": [
            "<class 'pandas.core.frame.DataFrame'>\n",
            "RangeIndex: 461 entries, 0 to 460\n",
            "Data columns (total 17 columns):\n",
            " #   Column        Non-Null Count  Dtype  \n",
            "---  ------        --------------  -----  \n",
            " 0   name          461 non-null    object \n",
            " 1   club          461 non-null    object \n",
            " 2   age           461 non-null    int64  \n",
            " 3   position      461 non-null    object \n",
            " 4   position_cat  461 non-null    int64  \n",
            " 5   market_value  461 non-null    float64\n",
            " 6   page_views    461 non-null    int64  \n",
            " 7   fpl_value     461 non-null    float64\n",
            " 8   fpl_sel       461 non-null    object \n",
            " 9   fpl_points    461 non-null    int64  \n",
            " 10  region        460 non-null    float64\n",
            " 11  nationality   461 non-null    object \n",
            " 12  new_foreign   461 non-null    int64  \n",
            " 13  age_cat       461 non-null    int64  \n",
            " 14  club_id       461 non-null    int64  \n",
            " 15  big_club      461 non-null    int64  \n",
            " 16  new_signing   461 non-null    int64  \n",
            "dtypes: float64(3), int64(9), object(5)\n",
            "memory usage: 61.4+ KB\n"
          ],
          "name": "stdout"
        }
      ]
    },
    {
      "cell_type": "code",
      "metadata": {
        "id": "A1qTewVIJDLy",
        "outputId": "da9b3446-55a6-4306-8616-0f2e8abf9666",
        "colab": {
          "base_uri": "https://localhost:8080/",
          "height": 0
        }
      },
      "source": [
        "df['club'].unique()"
      ],
      "execution_count": 23,
      "outputs": [
        {
          "output_type": "execute_result",
          "data": {
            "text/plain": [
              "array(['Arsenal', 'Bournemouth', 'Brighton+and+Hove', 'Burnley',\n",
              "       'Chelsea', 'Crystal+Palace', 'Everton', 'Huddersfield',\n",
              "       'Leicester+City', 'Liverpool', 'Manchester+City',\n",
              "       'Manchester+United', 'Newcastle+United', 'Southampton',\n",
              "       'Stoke+City', 'Swansea', 'Tottenham', 'Watford', 'West+Brom',\n",
              "       'West+Ham'], dtype=object)"
            ]
          },
          "metadata": {
            "tags": []
          },
          "execution_count": 23
        }
      ]
    },
    {
      "cell_type": "code",
      "metadata": {
        "id": "375vBEjZJR2p",
        "outputId": "e26cb8e5-e3b0-49f2-cbb3-3f4f0817a45f",
        "colab": {
          "base_uri": "https://localhost:8080/",
          "height": 0
        }
      },
      "source": [
        "print(\"clubs             players in each club\\n\")\n",
        "df['club'].value_counts() \n",
        "#df.columns = ['club', 'value_counts']"
      ],
      "execution_count": 39,
      "outputs": [
        {
          "output_type": "stream",
          "text": [
            "clubs             players in each club\n",
            "\n"
          ],
          "name": "stdout"
        },
        {
          "output_type": "execute_result",
          "data": {
            "text/plain": [
              "Arsenal              28\n",
              "Everton              28\n",
              "Huddersfield         28\n",
              "Liverpool            27\n",
              "Manchester+United    25\n",
              "Swansea              25\n",
              "Leicester+City       24\n",
              "Watford              24\n",
              "Bournemouth          24\n",
              "Southampton          23\n",
              "Brighton+and+Hove    22\n",
              "West+Ham             22\n",
              "Stoke+City           22\n",
              "Crystal+Palace       21\n",
              "Newcastle+United     21\n",
              "Manchester+City      20\n",
              "Chelsea              20\n",
              "Tottenham            20\n",
              "West+Brom            19\n",
              "Burnley              18\n",
              "Name: club, dtype: int64"
            ]
          },
          "metadata": {
            "tags": []
          },
          "execution_count": 39
        }
      ]
    },
    {
      "cell_type": "code",
      "metadata": {
        "id": "SPXZfOYurh9M",
        "outputId": "65e672b0-c6ae-4021-e1a6-050450a42abc",
        "colab": {
          "base_uri": "https://localhost:8080/",
          "height": 0
        }
      },
      "source": [
        "df['position'].unique()"
      ],
      "execution_count": 22,
      "outputs": [
        {
          "output_type": "execute_result",
          "data": {
            "text/plain": [
              "array(['LW', 'AM', 'GK', 'RW', 'CB', 'RB', 'CF', 'LB', 'DM', 'RM', 'CM',\n",
              "       'SS', 'LM'], dtype=object)"
            ]
          },
          "metadata": {
            "tags": []
          },
          "execution_count": 22
        }
      ]
    },
    {
      "cell_type": "code",
      "metadata": {
        "id": "78jimM5RIlta",
        "outputId": "036254b0-4b8e-4f25-e3c7-c96338730488",
        "colab": {
          "base_uri": "https://localhost:8080/",
          "height": 0
        }
      },
      "source": [
        "df['position'].value_counts()"
      ],
      "execution_count": 40,
      "outputs": [
        {
          "output_type": "execute_result",
          "data": {
            "text/plain": [
              "CB    85\n",
              "CM    63\n",
              "CF    61\n",
              "GK    42\n",
              "DM    36\n",
              "LW    36\n",
              "LB    35\n",
              "RB    34\n",
              "RW    32\n",
              "AM    17\n",
              "LM     8\n",
              "SS     7\n",
              "RM     5\n",
              "Name: position, dtype: int64"
            ]
          },
          "metadata": {
            "tags": []
          },
          "execution_count": 40
        }
      ]
    },
    {
      "cell_type": "markdown",
      "metadata": {
        "id": "iMj-MgIqXGbH"
      },
      "source": [
        "## replacing nan values with logic"
      ]
    },
    {
      "cell_type": "code",
      "metadata": {
        "id": "HusNfFk7LJnY",
        "outputId": "e1280773-6e0f-421d-848b-1644e72563a4",
        "colab": {
          "base_uri": "https://localhost:8080/",
          "height": 0
        }
      },
      "source": [
        "df.isnull().values.any()"
      ],
      "execution_count": 41,
      "outputs": [
        {
          "output_type": "execute_result",
          "data": {
            "text/plain": [
              "True"
            ]
          },
          "metadata": {
            "tags": []
          },
          "execution_count": 41
        }
      ]
    },
    {
      "cell_type": "code",
      "metadata": {
        "id": "K1ATc9IaMK62",
        "outputId": "7c0e9221-55cd-490a-ac6d-bf35cb678c84",
        "colab": {
          "base_uri": "https://localhost:8080/",
          "height": 0
        }
      },
      "source": [
        "df.isnull().sum()"
      ],
      "execution_count": 42,
      "outputs": [
        {
          "output_type": "execute_result",
          "data": {
            "text/plain": [
              "name            0\n",
              "club            0\n",
              "age             0\n",
              "position        0\n",
              "position_cat    0\n",
              "market_value    0\n",
              "page_views      0\n",
              "fpl_value       0\n",
              "fpl_sel         0\n",
              "fpl_points      0\n",
              "region          1\n",
              "nationality     0\n",
              "new_foreign     0\n",
              "age_cat         0\n",
              "club_id         0\n",
              "big_club        0\n",
              "new_signing     0\n",
              "dtype: int64"
            ]
          },
          "metadata": {
            "tags": []
          },
          "execution_count": 42
        }
      ]
    },
    {
      "cell_type": "markdown",
      "metadata": {
        "id": "iUH5_iluMa0V"
      },
      "source": [
        "### do we need region for prediction????"
      ]
    },
    {
      "cell_type": "code",
      "metadata": {
        "id": "Ov739BzLMSV2",
        "outputId": "2f843374-c15a-4d95-9cb0-2f9c85bec88e",
        "colab": {
          "base_uri": "https://localhost:8080/",
          "height": 0
        }
      },
      "source": [
        "df['region'] == 0 "
      ],
      "execution_count": 60,
      "outputs": [
        {
          "output_type": "execute_result",
          "data": {
            "text/plain": [
              "0      False\n",
              "1      False\n",
              "2      False\n",
              "3      False\n",
              "4      False\n",
              "       ...  \n",
              "456    False\n",
              "457    False\n",
              "458    False\n",
              "459    False\n",
              "460    False\n",
              "Name: region, Length: 461, dtype: bool"
            ]
          },
          "metadata": {
            "tags": []
          },
          "execution_count": 60
        }
      ]
    },
    {
      "cell_type": "code",
      "metadata": {
        "id": "Ddx1Mn5VOiI8",
        "outputId": "eefd7a03-0e20-406b-f1b7-bb8568880610",
        "colab": {
          "base_uri": "https://localhost:8080/",
          "height": 0
        }
      },
      "source": [
        "print(df[df['region'].isnull()])"
      ],
      "execution_count": 62,
      "outputs": [
        {
          "output_type": "stream",
          "text": [
            "             name          club  age  ... club_id  big_club  new_signing\n",
            "188  Steve Mounie  Huddersfield   22  ...       8         0            0\n",
            "\n",
            "[1 rows x 17 columns]\n"
          ],
          "name": "stdout"
        }
      ]
    },
    {
      "cell_type": "code",
      "metadata": {
        "id": "q7H0qL7YSTc-",
        "outputId": "2a804b10-87f4-4353-b1d2-69218092e99e",
        "colab": {
          "base_uri": "https://localhost:8080/",
          "height": 337
        }
      },
      "source": [
        "display(df.iloc[188])"
      ],
      "execution_count": 66,
      "outputs": [
        {
          "output_type": "display_data",
          "data": {
            "text/plain": [
              "name            Steve Mounie\n",
              "club            Huddersfield\n",
              "age                       22\n",
              "position                  CF\n",
              "position_cat               1\n",
              "market_value             5.5\n",
              "page_views                56\n",
              "fpl_value                  6\n",
              "fpl_sel                0.60%\n",
              "fpl_points                 0\n",
              "region                   NaN\n",
              "nationality            Benin\n",
              "new_foreign                0\n",
              "age_cat                    2\n",
              "club_id                    8\n",
              "big_club                   0\n",
              "new_signing                0\n",
              "Name: 188, dtype: object"
            ]
          },
          "metadata": {
            "tags": []
          }
        }
      ]
    },
    {
      "cell_type": "markdown",
      "metadata": {
        "id": "YRVtcaBSVuE5"
      },
      "source": [
        "### so lets replace nan value with 4 bcoz it falls under category 4- other countries"
      ]
    },
    {
      "cell_type": "code",
      "metadata": {
        "id": "SueZMt5GVtt4"
      },
      "source": [
        "import numpy as np\n",
        "df['region'] = df['region'].replace(np.nan, 4)"
      ],
      "execution_count": 76,
      "outputs": []
    },
    {
      "cell_type": "code",
      "metadata": {
        "id": "ONsyqi6jUgGQ",
        "outputId": "0b199c90-674f-412c-f2f7-d6381c8b7550",
        "colab": {
          "base_uri": "https://localhost:8080/",
          "height": 337
        }
      },
      "source": [
        "display(df.iloc[188])"
      ],
      "execution_count": 77,
      "outputs": [
        {
          "output_type": "display_data",
          "data": {
            "text/plain": [
              "name            Steve Mounie\n",
              "club            Huddersfield\n",
              "age                       22\n",
              "position                  CF\n",
              "position_cat               1\n",
              "market_value             5.5\n",
              "page_views                56\n",
              "fpl_value                  6\n",
              "fpl_sel                0.60%\n",
              "fpl_points                 0\n",
              "region                     4\n",
              "nationality            Benin\n",
              "new_foreign                0\n",
              "age_cat                    2\n",
              "club_id                    8\n",
              "big_club                   0\n",
              "new_signing                0\n",
              "Name: 188, dtype: object"
            ]
          },
          "metadata": {
            "tags": []
          }
        }
      ]
    },
    {
      "cell_type": "code",
      "metadata": {
        "id": "S-LlbCEGWddu",
        "outputId": "4fd2d19f-74e1-414d-c960-9faa0cf0aaeb",
        "colab": {
          "base_uri": "https://localhost:8080/"
        }
      },
      "source": [
        "df.isnull().sum()"
      ],
      "execution_count": 78,
      "outputs": [
        {
          "output_type": "execute_result",
          "data": {
            "text/plain": [
              "name            0\n",
              "club            0\n",
              "age             0\n",
              "position        0\n",
              "position_cat    0\n",
              "market_value    0\n",
              "page_views      0\n",
              "fpl_value       0\n",
              "fpl_sel         0\n",
              "fpl_points      0\n",
              "region          0\n",
              "nationality     0\n",
              "new_foreign     0\n",
              "age_cat         0\n",
              "club_id         0\n",
              "big_club        0\n",
              "new_signing     0\n",
              "dtype: int64"
            ]
          },
          "metadata": {
            "tags": []
          },
          "execution_count": 78
        }
      ]
    }
  ]
}